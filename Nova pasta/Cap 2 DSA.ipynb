{
 "cells": [
  {
   "cell_type": "code",
   "execution_count": 1,
   "id": "097d60fc",
   "metadata": {},
   "outputs": [
    {
     "name": "stdout",
     "output_type": "stream",
     "text": [
      "Olá Mundo\n"
     ]
    }
   ],
   "source": [
    "print(\"Olá Mundo\")"
   ]
  },
  {
   "cell_type": "markdown",
   "id": "85652bdb",
   "metadata": {},
   "source": [
    "Inicio    \n",
    "    Inserir o valor 1\n",
    "    Inserir a operação\n",
    "    Inserir o valor 2\n",
    "    Resultado\n",
    "Fim"
   ]
  },
  {
   "cell_type": "code",
   "execution_count": null,
   "id": "bd2582d2",
   "metadata": {},
   "outputs": [],
   "source": [
    "print(\"Bem vindo a calculadora\")"
   ]
  },
  {
   "cell_type": "code",
   "execution_count": null,
   "id": "aec71fca",
   "metadata": {},
   "outputs": [],
   "source": [
    "v1 = float(input('Insira o primeiro valor'))"
   ]
  },
  {
   "cell_type": "code",
   "execution_count": null,
   "id": "188bc77e",
   "metadata": {},
   "outputs": [],
   "source": [
    "operação = float(input)"
   ]
  }
 ],
 "metadata": {
  "kernelspec": {
   "display_name": "Python 3 (ipykernel)",
   "language": "python",
   "name": "python3"
  },
  "language_info": {
   "codemirror_mode": {
    "name": "ipython",
    "version": 3
   },
   "file_extension": ".py",
   "mimetype": "text/x-python",
   "name": "python",
   "nbconvert_exporter": "python",
   "pygments_lexer": "ipython3",
   "version": "3.11.9"
  }
 },
 "nbformat": 4,
 "nbformat_minor": 5
}
